{
  "nbformat": 4,
  "nbformat_minor": 0,
  "metadata": {
    "colab": {
      "name": "Boolean Data type in Python.ipynb",
      "provenance": [],
      "collapsed_sections": [],
      "authorship_tag": "ABX9TyMuhw/IQ4tEOosgPCXMBdb/",
      "include_colab_link": true
    },
    "kernelspec": {
      "name": "python3",
      "display_name": "Python 3"
    },
    "language_info": {
      "name": "python"
    }
  },
  "cells": [
    {
      "cell_type": "markdown",
      "metadata": {
        "id": "view-in-github",
        "colab_type": "text"
      },
      "source": [
        "<a href=\"https://colab.research.google.com/github/AswathiGR/portfolio/blob/main/Boolean_Data_type_in_Python.ipynb\" target=\"_parent\"><img src=\"https://colab.research.google.com/assets/colab-badge.svg\" alt=\"Open In Colab\"/></a>"
      ]
    },
    {
      "cell_type": "markdown",
      "metadata": {
        "id": "X5sx71Rherbg"
      },
      "source": [
        "# **Boolean Data type in Python**\n",
        "\n",
        "The Boolean data type in python represents the customized versions of the integers 1 and 0. So, booleans are generally considered as **numeric** type in python. \n",
        "\n",
        "A Boolean data type will be either True or False. Numerically, True is equal to 1 and False is equal to 0. So that we will see *True+1* gives 2 in python!\n",
        "\n",
        "\n",
        "####**Defining a Boolean Variable**\n",
        "We can define a boolean variable simply by *assignment operator*.\n",
        "\n",
        "```\n",
        "# Assigning boolean values to a variable\n",
        "my_boolean=True\n",
        "boolean_2=False\n",
        "# Checking the datatype of my_boolean\n",
        "print(type(my_boolean))\n",
        "print(type(boolean_2))\n",
        "```\n",
        "We will get the output as;\n",
        "\n",
        "![](https://user-images.githubusercontent.com/44152778/133942603-96118ddf-605d-4ae4-8701-21278de5a5e6.png)\n",
        "\n",
        "'**bool**' denotes the above a variables are now casted as a Boolean data type.\n",
        "Or, we can say True and False are *instances* of bool in the object oriented sense.\n",
        "\n",
        "####**Evaluation of Statements**\n",
        "\n",
        "\n",
        "\n",
        "```\n",
        "#Assigning boolean values to a variable\n",
        "my_boolean=True\n",
        "boolean_2=False\n",
        "#Checks if the statement is True/False using equality operator '=='\n",
        "print(my_boolean==boolean_2)\n",
        "print(1+2==3)\n",
        "print(2**3==6)\n",
        "print(True==1)\n",
        "```\n",
        "\n",
        "\n",
        "\n",
        "Output:\n",
        "\n",
        "![](https://user-images.githubusercontent.com/44152778/133942605-903ae299-d561-422e-a47c-e004aee381e7.png)\n",
        "\n",
        "\n",
        "\n",
        "The Boolean operators are used in comparison statements. Boolean can control the program flow in conditionals and loops."
      ]
    }
  ]
}
