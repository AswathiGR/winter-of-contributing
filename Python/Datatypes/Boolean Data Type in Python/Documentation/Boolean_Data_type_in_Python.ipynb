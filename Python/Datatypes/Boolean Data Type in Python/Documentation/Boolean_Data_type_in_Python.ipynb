{
  "nbformat": 4,
  "nbformat_minor": 0,
  "metadata": {
    "colab": {
      "name": "Boolean Data type in Python.ipynb",
      "provenance": []
    },
    "kernelspec": {
      "name": "python3",
      "display_name": "Python 3"
    },
    "language_info": {
      "name": "python"
    }
  },
  "cells": [
    {
      "cell_type": "markdown",
      "metadata": {
        "id": "LNAgTLl7JSa-"
      },
      "source": [
        "# **Boolean Data type in Python**\n",
        "\n",
        "The Boolean data type in python represents the customized versions of the integers 1 and 0. So, booleans are generally considered as **numeric** type in python. \n",
        "\n",
        "A Boolean data type will be either True or False. Numerically, True is equal to 1 and False is equal to 0. So that we will see *True+1* gives 2 in python!\n",
        "\n",
        "\n"
      ]
    },
    {
      "cell_type": "markdown",
      "metadata": {
        "id": "Tc0gAR9BREKm"
      },
      "source": [
        "####**Defining a Boolean Variable**\n",
        "We can define a boolean variable simply by *assignment operator*."
      ]
    },
    {
      "cell_type": "code",
      "metadata": {
        "colab": {
          "base_uri": "https://localhost:8080/"
        },
        "id": "yCx8YFoXJVHZ",
        "outputId": "192430eb-d8bf-4147-ff92-2587c35ae417"
      },
      "source": [
        "# Assigning boolean values to a variable\n",
        "my_boolean=True\n",
        "boolean_2=False\n",
        "# Checking the datatype of variables\n",
        "print(type(my_boolean))\n",
        "print(type(boolean_2))"
      ],
      "execution_count": 2,
      "outputs": [
        {
          "output_type": "stream",
          "name": "stdout",
          "text": [
            "<class 'bool'>\n",
            "<class 'bool'>\n"
          ]
        }
      ]
    },
    {
      "cell_type": "markdown",
      "metadata": {
        "id": "0xmWc1kFJtI1"
      },
      "source": [
        "The <class 'bool'> in output indicates the above variables are now casted as a Boolean data type. Or, we can say True and False are *instances* of bool in the object oriented sense.\n"
      ]
    },
    {
      "cell_type": "markdown",
      "metadata": {
        "id": "FbOBMswPNezV"
      },
      "source": [
        "####**Evaluation of Expressions**\n"
      ]
    },
    {
      "cell_type": "code",
      "metadata": {
        "colab": {
          "base_uri": "https://localhost:8080/"
        },
        "id": "lzUa3iZqQMkA",
        "outputId": "c0a563c5-28f0-4314-bf93-2d7dc215683a"
      },
      "source": [
        "#Assigning boolean values to a variable\n",
        "my_boolean=True\n",
        "boolean_2=False\n",
        "#Checks if the statement is True/False using equality operator '=='\n",
        "print(my_boolean==boolean_2)\n",
        "print(1+2==3)\n",
        "print(2**3==6)\n",
        "print(True==1)\n",
        "#Checking the value of a variable\n",
        "Count = 10%2\n",
        "print(Count == 0)"
      ],
      "execution_count": 12,
      "outputs": [
        {
          "output_type": "stream",
          "name": "stdout",
          "text": [
            "False\n",
            "True\n",
            "False\n",
            "True\n",
            "True\n"
          ]
        }
      ]
    },
    {
      "cell_type": "markdown",
      "metadata": {
        "id": "gjULArELRM5x"
      },
      "source": [
        "This can also be done using built-in function **bool()**"
      ]
    },
    {
      "cell_type": "code",
      "metadata": {
        "colab": {
          "base_uri": "https://localhost:8080/"
        },
        "id": "IYmeQHIZRbhE",
        "outputId": "0d970453-1de7-46c4-adf4-dadaee93f326"
      },
      "source": [
        "apples = 5\n",
        "oranges = 10\n",
        "print(bool(apples==oranges))"
      ],
      "execution_count": 7,
      "outputs": [
        {
          "output_type": "stream",
          "name": "stdout",
          "text": [
            "False\n"
          ]
        }
      ]
    },
    {
      "cell_type": "markdown",
      "metadata": {
        "id": "njW-PTwjSFNO"
      },
      "source": [
        "The bool() in Python takes one argument and returns a boolean value. bool() returns True except for empty strings/lists/dictionaries etc. bool returns False if the argument given is zero."
      ]
    },
    {
      "cell_type": "code",
      "metadata": {
        "colab": {
          "base_uri": "https://localhost:8080/"
        },
        "id": "1Cruhh6VSwro",
        "outputId": "0b3eddae-2af0-4df8-92c2-03d437f8d631"
      },
      "source": [
        "print(bool(0)) #Argument is zero\n",
        "p = 'Python is fun'\n",
        "print(bool(p)) #Evaluates a string\n",
        "print(bool([])) #Empty list\n",
        "print(bool('{}')) #Evaluates a String\n",
        "print(bool(0.2)) #Evalues a float"
      ],
      "execution_count": 13,
      "outputs": [
        {
          "output_type": "stream",
          "name": "stdout",
          "text": [
            "False\n",
            "True\n",
            "False\n",
            "True\n",
            "True\n"
          ]
        }
      ]
    },
    {
      "cell_type": "markdown",
      "metadata": {
        "id": "0bQjMQJKUie8"
      },
      "source": [
        "The Boolean operators are used in comparison statements. Boolean can control the program flow in conditionals and loops."
      ]
    }
  ]
}
